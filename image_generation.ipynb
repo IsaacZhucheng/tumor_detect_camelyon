{
  "nbformat": 4,
  "nbformat_minor": 0,
  "metadata": {
    "colab": {
      "provenance": [],
      "machine_shape": "hm"
    },
    "kernelspec": {
      "name": "python3",
      "display_name": "Python 3"
    },
    "gpuClass": "premium",
    "accelerator": "GPU"
  },
  "cells": [
    {
      "cell_type": "code",
      "metadata": {
        "id": "HJ_T09jo5rxS",
        "outputId": "de783b8e-b443-4d85-b5c4-7f7608b89444",
        "colab": {
          "base_uri": "https://localhost:8080/"
        }
      },
      "source": [
        "# Install the OpenSlide C library and Python bindings\n",
        "# After installing these libraries, use `Runtime -> restart and run all` on the menu\n",
        "!apt-get install openslide-tools\n",
        "!pip install openslide-python"
      ],
      "execution_count": null,
      "outputs": [
        {
          "output_type": "stream",
          "name": "stdout",
          "text": [
            "Reading package lists... Done\n",
            "Building dependency tree       \n",
            "Reading state information... Done\n",
            "The following package was automatically installed and is no longer required:\n",
            "  libnvidia-common-460\n",
            "Use 'apt autoremove' to remove it.\n",
            "The following additional packages will be installed:\n",
            "  libopenslide0\n",
            "Suggested packages:\n",
            "  libtiff-tools\n",
            "The following NEW packages will be installed:\n",
            "  libopenslide0 openslide-tools\n",
            "0 upgraded, 2 newly installed, 0 to remove and 20 not upgraded.\n",
            "Need to get 92.5 kB of archives.\n",
            "After this operation, 268 kB of additional disk space will be used.\n",
            "Get:1 http://archive.ubuntu.com/ubuntu bionic/universe amd64 libopenslide0 amd64 3.4.1+dfsg-2 [79.8 kB]\n",
            "Get:2 http://archive.ubuntu.com/ubuntu bionic/universe amd64 openslide-tools amd64 3.4.1+dfsg-2 [12.7 kB]\n",
            "Fetched 92.5 kB in 1s (166 kB/s)\n",
            "Selecting previously unselected package libopenslide0.\n",
            "(Reading database ... 124016 files and directories currently installed.)\n",
            "Preparing to unpack .../libopenslide0_3.4.1+dfsg-2_amd64.deb ...\n",
            "Unpacking libopenslide0 (3.4.1+dfsg-2) ...\n",
            "Selecting previously unselected package openslide-tools.\n",
            "Preparing to unpack .../openslide-tools_3.4.1+dfsg-2_amd64.deb ...\n",
            "Unpacking openslide-tools (3.4.1+dfsg-2) ...\n",
            "Setting up libopenslide0 (3.4.1+dfsg-2) ...\n",
            "Setting up openslide-tools (3.4.1+dfsg-2) ...\n",
            "Processing triggers for libc-bin (2.27-3ubuntu1.6) ...\n",
            "Processing triggers for man-db (2.8.3-2ubuntu0.1) ...\n",
            "Looking in indexes: https://pypi.org/simple, https://us-python.pkg.dev/colab-wheels/public/simple/\n",
            "Collecting openslide-python\n",
            "  Downloading openslide-python-1.2.0.tar.gz (338 kB)\n",
            "\u001b[K     |████████████████████████████████| 338 kB 6.8 MB/s \n",
            "\u001b[?25hRequirement already satisfied: Pillow in /usr/local/lib/python3.8/dist-packages (from openslide-python) (7.1.2)\n",
            "Building wheels for collected packages: openslide-python\n",
            "  Building wheel for openslide-python (setup.py) ... \u001b[?25l\u001b[?25hdone\n",
            "  Created wheel for openslide-python: filename=openslide_python-1.2.0-cp38-cp38-linux_x86_64.whl size=27712 sha256=8a9dcb2698dbe7063e8d91c1c424f4deb3d5477af5bbdc9d00960cfd83732f9f\n",
            "  Stored in directory: /root/.cache/pip/wheels/ae/74/4e/f8654d229eb249d1345e3df0191030ad77e7a6a2114df7cd28\n",
            "Successfully built openslide-python\n",
            "Installing collected packages: openslide-python\n",
            "Successfully installed openslide-python-1.2.0\n"
          ]
        }
      ]
    },
    {
      "cell_type": "code",
      "metadata": {
        "id": "Ws_fS_f13WUd"
      },
      "source": [
        "%matplotlib inline\n",
        "import matplotlib.pyplot as plt\n",
        "import numpy as np\n",
        "from openslide import open_slide, __library_version__ as openslide_version\n",
        "import os\n",
        "from PIL import Image\n",
        "from skimage.color import rgb2gray"
      ],
      "execution_count": null,
      "outputs": []
    },
    {
      "cell_type": "code",
      "source": [
        "from google.colab import drive\n",
        "drive.mount('/content/drive')"
      ],
      "metadata": {
        "id": "-wkt21CgyquE"
      },
      "execution_count": null,
      "outputs": []
    },
    {
      "cell_type": "markdown",
      "source": [
        "## Non-overlap patch extraction via thumbnail API"
      ],
      "metadata": {
        "id": "c_zCIHo_52UP"
      }
    },
    {
      "cell_type": "code",
      "source": [
        "import pandas as pd\n",
        "from pathlib import Path\n",
        "from skimage.filters import threshold_otsu\n",
        "import glob\n",
        "\n",
        "def thumbnail_filter(slide_path, mask_path = None, tile_size = 299):\n",
        "  \"\"\"\n",
        "  Create thumbnail from level 0 image\n",
        "  Use otsu_algorithm to determine non-tissue tiles\n",
        "  If there's mask, then it's posstive sample\n",
        "  We use thumbnail from mask to determine cancerous tiles\n",
        "  Remove non-tissue tiles\n",
        "\n",
        "  Return a dataframe containing tiles location\n",
        "  \"\"\"\n",
        "  with open_slide(slide_path) as slide:\n",
        "      #print('dim: ', slide.dimensions[0])\n",
        "      thumbnail = slide.get_thumbnail((slide.dimensions[0] / tile_size, slide.dimensions[1] / tile_size))\n",
        "      \n",
        "\n",
        "      thumbnail_grey = np.array(thumbnail.convert('L')) # convert to grayscale\n",
        "      thresh = threshold_otsu(thumbnail_grey)\n",
        "      binary = thumbnail_grey > thresh\n",
        "\n",
        "      patches = pd.DataFrame(pd.DataFrame(binary).stack())\n",
        "      patches['is_tissue'] = ~patches[0]\n",
        "      patches.drop(0, axis=1, inplace=True)\n",
        "      patches['slide_path'] = slide_path\n",
        "\n",
        "\n",
        "  with open_slide(str(mask_path)) as truth:\n",
        "      thumbnail_truth = truth.get_thumbnail((truth.dimensions[0] / tile_size, truth.dimensions[1] / tile_size)) \n",
        "  \n",
        "  patches_y = pd.DataFrame(pd.DataFrame(np.array(thumbnail_truth.convert(\"L\"))).stack())\n",
        "  patches_y['is_tumor'] = patches_y[0] > 0\n",
        "  patches_y.drop(0, axis=1, inplace=True)\n",
        "\n",
        "  samples = pd.concat([patches, patches_y], axis=1)\n",
        "  #sampletotal.append(pd.concat([patches, patches_y], axis=1))\n",
        "\n",
        "  samples = samples[samples.is_tissue == True] # remove patches with no tissue\n",
        "  samples['tile_loc'] = list(samples.index)\n",
        "  samples.reset_index(inplace=True, drop=True)\n",
        "  return samples\n",
        "            "
      ],
      "metadata": {
        "id": "vKEjZNCg50ej"
      },
      "execution_count": null,
      "outputs": []
    },
    {
      "cell_type": "code",
      "source": [
        "tifs = glob.glob(\"/content/drive/MyDrive/slides/*.tif\")\n",
        "masks = [item for item in tifs if 'mask' in item]\n",
        "images = [item for item in tifs if not 'mask' in item and not '038' in item]"
      ],
      "metadata": {
        "id": "_wXoZ5iW3gdo"
      },
      "execution_count": null,
      "outputs": []
    },
    {
      "cell_type": "code",
      "source": [
        "#Generate tiles sample\n",
        "total_samples = pd.DataFrame()\n",
        "for mask in masks:\n",
        "  slide_path = mask.replace('_mask', '')\n",
        "  tiles = thumbnail_filter(slide_path, mask)\n",
        "  total_samples = total_samples.append(tiles, ignore_index=True)"
      ],
      "metadata": {
        "id": "nFX2vBiKB6yH"
      },
      "execution_count": null,
      "outputs": []
    },
    {
      "cell_type": "code",
      "source": [
        "# Downsample negative slides\n",
        "def downsampler(all_samples):\n",
        "  idx=all_samples.index[all_samples['is_tumor'] == False].tolist()\n",
        "  num_to_drop = sum(all_samples['is_tumor'] == False) - sum(all_samples['is_tumor'] == True)\n",
        "  drop_indices = np.random.choice(idx, num_to_drop, replace=False)\n",
        "  # print(len(drop_indices))\n",
        "  # print(all_samples.shape)\n",
        "  balanced_samples = all_samples.drop(drop_indices)\n",
        "  # print(balanced_samples.shape)\n",
        "  # reorder the index.\n",
        "  balanced_samples.reset_index(drop=True, inplace=True)\n",
        "  return balanced_samples"
      ],
      "metadata": {
        "id": "AJEDq8N_Hq3D"
      },
      "execution_count": null,
      "outputs": []
    },
    {
      "cell_type": "code",
      "source": [
        "balanced_samples = downsampler(total_samples)"
      ],
      "metadata": {
        "id": "EoOqU6tMCEXO"
      },
      "execution_count": null,
      "outputs": []
    },
    {
      "cell_type": "code",
      "source": [
        "from matplotlib.ticker import TickHelper\n",
        "from openslide.deepzoom import DeepZoomGenerator\n",
        "\n",
        "def generate_images(img_paths, sample_df, level = 0, tile_size = 299):\n",
        "\n",
        "  if not os.path.exists(f'/content/drive/MyDrive/patches/level_{level}_img'):\n",
        "    os.mkdir(f'/content/drive/MyDrive/patches/level_{level}_img')\n",
        "  if not os.path.exists(f'/content/drive/MyDrive/patches/level_{level}_mask'):\n",
        "    os.mkdir(f'/content/drive/MyDrive/patches/level_{level}_mask')\n",
        "\n",
        "  for img in img_paths:\n",
        "    img_name = img.split('/')[-1]\n",
        "    img_name = img_name.split('.')[0]\n",
        "    print('Current processing: ', img_name)\n",
        "    img_df = sample_df[sample_df['slide_path']==img]\n",
        "    img_df = img_df.sample(10, replace = False, random_state=1)\n",
        "    with open_slide(img) as slide:\n",
        "      #\n",
        "      tiles = DeepZoomGenerator(slide, tile_size=tile_size, overlap=0, limit_bounds=False)\n",
        "      #print('tile levels: ', tiles.level_dimensions)\n",
        "      #print()\n",
        "      for i in range(len(img_df)):\n",
        "        cur_tile = img_df.iloc[i, :]\n",
        "        tile = tiles.get_tile(tiles.level_count-level-1, cur_tile.tile_loc[::-1])\n",
        "        loc_x, loc_y = cur_tile.tile_loc[::-1]\n",
        "        im = np.array(tile)\n",
        "        is_tumor = 'tumor' if cur_tile.is_tumor else 'normal'\n",
        "        plt.imsave('/content/drive/MyDrive/patches/level_%d_img/%s_%s_%d_%d_%d.png' % (level, is_tumor, img_name, loc_x, loc_y, level), im)\n",
        "\n",
        "\n",
        "\n",
        "    mask = img.replace('.tif', '_mask.tif')\n",
        "    with open_slide(str(mask)) as truth:\n",
        "      truth_tiles = DeepZoomGenerator(truth, tile_size=299, overlap=0, limit_bounds=False)\n",
        "      #print('truth levels: ', truth_tiles.level_dimensions)\n",
        "      #print()\n",
        "      for i in range(len(img_df)):\n",
        "        cur_tile = img_df.iloc[i, :]\n",
        "        tile = truth_tiles.get_tile(truth_tiles.level_count-level-1, cur_tile.tile_loc[::-1])\n",
        "        loc_x, loc_y = cur_tile.tile_loc[::-1]\n",
        "        im = np.array(tile)\n",
        "        is_tumor = 'tumor' if cur_tile.is_tumor else 'normal'\n",
        "        plt.imsave('/content/drive/MyDrive/patches/level_%d_mask/%s_%s_%d_%d_%d.png' % (level, is_tumor, img_name, loc_x, loc_y, level), im)\n",
        "      \n"
      ],
      "metadata": {
        "id": "rGXQ0zZ2CItW"
      },
      "execution_count": null,
      "outputs": []
    },
    {
      "cell_type": "code",
      "source": [
        "generate_images(images, balanced_samples, level=0)"
      ],
      "metadata": {
        "id": "7uW_kgbkSFw8"
      },
      "execution_count": null,
      "outputs": []
    },
    {
      "cell_type": "markdown",
      "source": [
        "## Sliding Window Approach to Extract Tiles from Different Level"
      ],
      "metadata": {
        "id": "bf7D7TYleVGw"
      }
    },
    {
      "cell_type": "code",
      "source": [
        "import glob\n",
        "tifs = glob.glob(\"/content/drive/MyDrive/slides/*.tif\")\n",
        "masks = [item for item in tifs if 'mask' in item]\n",
        "images = [item for item in tifs if not 'mask' in item and not '038' in item]"
      ],
      "metadata": {
        "id": "D6ZXqytSePgh"
      },
      "execution_count": null,
      "outputs": []
    },
    {
      "cell_type": "code",
      "source": [
        "def read_slide(slide, x, y, level, width, height, as_float=False):\n",
        "    im = slide.read_region((x,y), level, (width, height))\n",
        "    im = im.convert('RGB') # drop the alpha channel\n",
        "    if as_float:\n",
        "        im = np.asarray(im, dtype=np.float32)\n",
        "    else:\n",
        "        im = np.asarray(im)\n",
        "    assert im.shape == (height, width, 3)\n",
        "    return im\n",
        "\n",
        "def find_tissue_pixels(image, intensity=0.8):\n",
        "\n",
        "    im_gray = rgb2gray(image)\n",
        "    assert im_gray.shape == (image.shape[0], image.shape[1])\n",
        "    indices = np.where(im_gray <= intensity)\n",
        "    return zip(indices[0], indices[1])\n",
        "  \n",
        "def apply_mask(im, mask, color=(1,0,0)):\n",
        "\n",
        "    masked = np.zeros(im.shape)\n",
        "    for x,y in mask: masked[x][y] = color\n",
        "    return masked"
      ],
      "metadata": {
        "id": "ZjKSWawmfq9S"
      },
      "execution_count": null,
      "outputs": []
    },
    {
      "cell_type": "code",
      "source": [
        "## Use level 2 and level 0 Image as input\n",
        "def generate_samples(image_path, mask_path, high_lvl = 0, low_lvl = 2, window_size = 299):\n",
        "  \"\"\"\n",
        "  Generate a dataframe using a sliding window approach\n",
        "  Each instance in the dataframe is a image pair:\n",
        "  A window_size*window_size tile from a low resolution slide\n",
        "  paired with a window_size*window_size from a high resolution slide \n",
        "  corresponding to the center region of the low resolution tile.\n",
        "  If the high resolution tile contains tumor, label it as positive sample.\n",
        "  \"\"\"\n",
        "  with open_slide(image_path) as slide, open_slide(mask_path) as mask:\n",
        "    # Sliding over Level 0\n",
        "    # Pari with Level 2\n",
        "    tissue_threshold = 0.5\n",
        "    image_pair_positive = []\n",
        "    image_pair_negative = []\n",
        "    for x in range(0, slide.level_dimensions[0][0], window_size*(2**high_lvl)*2):\n",
        "      for y in range(0, slide.level_dimensions[0][1], window_size*(2**high_lvl)*2):\n",
        "        # Calculate Paired Window Location at Lower Reso Level \n",
        "        #print(x, y)\n",
        "        ratio = (2**low_lvl-2**high_lvl)/2\n",
        "\n",
        "        # Top Left Coordinate from Low Reso\n",
        "        x_low = x-window_size*ratio\n",
        "        y_low = y-window_size*ratio\n",
        "        # Bottom right Coordinate from Low Reso\n",
        "        x_low_b = x_low+window_size*(2**low_lvl)\n",
        "        y_low_r = y_low+window_size*(2**low_lvl)\n",
        "        \n",
        "        # Check If Window Pair is Out of bound\n",
        "        if x_low<0 or y_low<0 or x_low_b>slide.level_dimensions[0][0] or y_low_r>slide.level_dimensions[0][1]:\n",
        "          continue\n",
        "        \n",
        "        cur_tile = read_slide(slide, \n",
        "                          x = x, \n",
        "                          y = y, \n",
        "                          level = high_lvl, \n",
        "                          width = window_size, \n",
        "                          height = window_size, \n",
        "                          )\n",
        "        # Filter Tissue Region, threshold = 0.5\n",
        "        tissue_pixels = find_tissue_pixels(cur_tile)\n",
        "        tissue_ratio = len(list(tissue_pixels))/(window_size**2)\n",
        "        #if tissue_ratio>tissue_threshold:\n",
        "        if tissue_ratio>=tissue_threshold:\n",
        "          # Determine Positve\n",
        "          cur_mask = read_slide(mask, \n",
        "                            x = x, \n",
        "                            y = y, \n",
        "                            level = high_lvl, \n",
        "                            width = window_size, \n",
        "                            height = window_size, \n",
        "                            )\n",
        "          cur_mask = cur_mask[:,:,0]\n",
        "          is_tumor = np.sum(cur_mask)>0\n",
        "          if is_tumor:\n",
        "            image_pair_positive.append([(x, y), (x_low, y_low)])\n",
        "          else:\n",
        "            image_pair_negative.append([(x, y), (x_low, y_low)])\n",
        "\n",
        "\n",
        "  return image_pair_positive, image_pair_negative"
      ],
      "metadata": {
        "id": "xRDCq7J_frnu"
      },
      "execution_count": null,
      "outputs": []
    },
    {
      "cell_type": "code",
      "source": [
        "total_samples = pd.read_csv('/content/drive/MyDrive/high_res_calibrated.csv')"
      ],
      "metadata": {
        "id": "ssrs-JGlMEJz"
      },
      "execution_count": null,
      "outputs": []
    },
    {
      "cell_type": "code",
      "source": [
        "total_samples.head()"
      ],
      "metadata": {
        "colab": {
          "base_uri": "https://localhost:8080/",
          "height": 206
        },
        "id": "3pPGfX0CMerF",
        "outputId": "f0defbd2-f91f-4954-ea84-146606b1dd57"
      },
      "execution_count": null,
      "outputs": [
        {
          "output_type": "execute_result",
          "data": {
            "text/plain": [
              "           slide  is_tumor    high_reso_loc     low_reso_loc\n",
              "0  tumor_101.tif      True   (95082, 16744)   (94633, 16295)\n",
              "1  tumor_101.tif      True   (40664, 28106)   (40215, 27657)\n",
              "2  tumor_101.tif      True   (41262, 29302)   (40813, 28853)\n",
              "3  tumor_101.tif      True  (118404, 20930)  (117955, 20481)\n",
              "4  tumor_101.tif      True   (21528, 16146)   (21079, 15697)"
            ],
            "text/html": [
              "\n",
              "  <div id=\"df-7b46ea96-37f6-4ba6-84c0-dce1e6a311dc\">\n",
              "    <div class=\"colab-df-container\">\n",
              "      <div>\n",
              "<style scoped>\n",
              "    .dataframe tbody tr th:only-of-type {\n",
              "        vertical-align: middle;\n",
              "    }\n",
              "\n",
              "    .dataframe tbody tr th {\n",
              "        vertical-align: top;\n",
              "    }\n",
              "\n",
              "    .dataframe thead th {\n",
              "        text-align: right;\n",
              "    }\n",
              "</style>\n",
              "<table border=\"1\" class=\"dataframe\">\n",
              "  <thead>\n",
              "    <tr style=\"text-align: right;\">\n",
              "      <th></th>\n",
              "      <th>slide</th>\n",
              "      <th>is_tumor</th>\n",
              "      <th>high_reso_loc</th>\n",
              "      <th>low_reso_loc</th>\n",
              "    </tr>\n",
              "  </thead>\n",
              "  <tbody>\n",
              "    <tr>\n",
              "      <th>0</th>\n",
              "      <td>tumor_101.tif</td>\n",
              "      <td>True</td>\n",
              "      <td>(95082, 16744)</td>\n",
              "      <td>(94633, 16295)</td>\n",
              "    </tr>\n",
              "    <tr>\n",
              "      <th>1</th>\n",
              "      <td>tumor_101.tif</td>\n",
              "      <td>True</td>\n",
              "      <td>(40664, 28106)</td>\n",
              "      <td>(40215, 27657)</td>\n",
              "    </tr>\n",
              "    <tr>\n",
              "      <th>2</th>\n",
              "      <td>tumor_101.tif</td>\n",
              "      <td>True</td>\n",
              "      <td>(41262, 29302)</td>\n",
              "      <td>(40813, 28853)</td>\n",
              "    </tr>\n",
              "    <tr>\n",
              "      <th>3</th>\n",
              "      <td>tumor_101.tif</td>\n",
              "      <td>True</td>\n",
              "      <td>(118404, 20930)</td>\n",
              "      <td>(117955, 20481)</td>\n",
              "    </tr>\n",
              "    <tr>\n",
              "      <th>4</th>\n",
              "      <td>tumor_101.tif</td>\n",
              "      <td>True</td>\n",
              "      <td>(21528, 16146)</td>\n",
              "      <td>(21079, 15697)</td>\n",
              "    </tr>\n",
              "  </tbody>\n",
              "</table>\n",
              "</div>\n",
              "      <button class=\"colab-df-convert\" onclick=\"convertToInteractive('df-7b46ea96-37f6-4ba6-84c0-dce1e6a311dc')\"\n",
              "              title=\"Convert this dataframe to an interactive table.\"\n",
              "              style=\"display:none;\">\n",
              "        \n",
              "  <svg xmlns=\"http://www.w3.org/2000/svg\" height=\"24px\"viewBox=\"0 0 24 24\"\n",
              "       width=\"24px\">\n",
              "    <path d=\"M0 0h24v24H0V0z\" fill=\"none\"/>\n",
              "    <path d=\"M18.56 5.44l.94 2.06.94-2.06 2.06-.94-2.06-.94-.94-2.06-.94 2.06-2.06.94zm-11 1L8.5 8.5l.94-2.06 2.06-.94-2.06-.94L8.5 2.5l-.94 2.06-2.06.94zm10 10l.94 2.06.94-2.06 2.06-.94-2.06-.94-.94-2.06-.94 2.06-2.06.94z\"/><path d=\"M17.41 7.96l-1.37-1.37c-.4-.4-.92-.59-1.43-.59-.52 0-1.04.2-1.43.59L10.3 9.45l-7.72 7.72c-.78.78-.78 2.05 0 2.83L4 21.41c.39.39.9.59 1.41.59.51 0 1.02-.2 1.41-.59l7.78-7.78 2.81-2.81c.8-.78.8-2.07 0-2.86zM5.41 20L4 18.59l7.72-7.72 1.47 1.35L5.41 20z\"/>\n",
              "  </svg>\n",
              "      </button>\n",
              "      \n",
              "  <style>\n",
              "    .colab-df-container {\n",
              "      display:flex;\n",
              "      flex-wrap:wrap;\n",
              "      gap: 12px;\n",
              "    }\n",
              "\n",
              "    .colab-df-convert {\n",
              "      background-color: #E8F0FE;\n",
              "      border: none;\n",
              "      border-radius: 50%;\n",
              "      cursor: pointer;\n",
              "      display: none;\n",
              "      fill: #1967D2;\n",
              "      height: 32px;\n",
              "      padding: 0 0 0 0;\n",
              "      width: 32px;\n",
              "    }\n",
              "\n",
              "    .colab-df-convert:hover {\n",
              "      background-color: #E2EBFA;\n",
              "      box-shadow: 0px 1px 2px rgba(60, 64, 67, 0.3), 0px 1px 3px 1px rgba(60, 64, 67, 0.15);\n",
              "      fill: #174EA6;\n",
              "    }\n",
              "\n",
              "    [theme=dark] .colab-df-convert {\n",
              "      background-color: #3B4455;\n",
              "      fill: #D2E3FC;\n",
              "    }\n",
              "\n",
              "    [theme=dark] .colab-df-convert:hover {\n",
              "      background-color: #434B5C;\n",
              "      box-shadow: 0px 1px 3px 1px rgba(0, 0, 0, 0.15);\n",
              "      filter: drop-shadow(0px 1px 2px rgba(0, 0, 0, 0.3));\n",
              "      fill: #FFFFFF;\n",
              "    }\n",
              "  </style>\n",
              "\n",
              "      <script>\n",
              "        const buttonEl =\n",
              "          document.querySelector('#df-7b46ea96-37f6-4ba6-84c0-dce1e6a311dc button.colab-df-convert');\n",
              "        buttonEl.style.display =\n",
              "          google.colab.kernel.accessAllowed ? 'block' : 'none';\n",
              "\n",
              "        async function convertToInteractive(key) {\n",
              "          const element = document.querySelector('#df-7b46ea96-37f6-4ba6-84c0-dce1e6a311dc');\n",
              "          const dataTable =\n",
              "            await google.colab.kernel.invokeFunction('convertToInteractive',\n",
              "                                                     [key], {});\n",
              "          if (!dataTable) return;\n",
              "\n",
              "          const docLinkHtml = 'Like what you see? Visit the ' +\n",
              "            '<a target=\"_blank\" href=https://colab.research.google.com/notebooks/data_table.ipynb>data table notebook</a>'\n",
              "            + ' to learn more about interactive tables.';\n",
              "          element.innerHTML = '';\n",
              "          dataTable['output_type'] = 'display_data';\n",
              "          await google.colab.output.renderOutput(dataTable, element);\n",
              "          const docLink = document.createElement('div');\n",
              "          docLink.innerHTML = docLinkHtml;\n",
              "          element.appendChild(docLink);\n",
              "        }\n",
              "      </script>\n",
              "    </div>\n",
              "  </div>\n",
              "  "
            ]
          },
          "metadata": {},
          "execution_count": 9
        }
      ]
    },
    {
      "cell_type": "code",
      "source": [
        "total_samples.slide.value_counts()"
      ],
      "metadata": {
        "colab": {
          "base_uri": "https://localhost:8080/"
        },
        "id": "2s6B6xNovuHh",
        "outputId": "9ad308ed-9d48-41ef-ded8-eb23ef983e37"
      },
      "execution_count": null,
      "outputs": [
        {
          "output_type": "execute_result",
          "data": {
            "text/plain": [
              "tumor_016.tif    1000\n",
              "tumor_031.tif    1000\n",
              "tumor_064.tif    1000\n",
              "tumor_075.tif    1000\n",
              "tumor_084.tif    1000\n",
              "tumor_091.tif    1000\n",
              "tumor_096.tif    1000\n",
              "tumor_110.tif    1000\n",
              "tumor_078.tif    1000\n",
              "tumor_101.tif    1000\n",
              "Name: slide, dtype: int64"
            ]
          },
          "metadata": {},
          "execution_count": 53
        }
      ]
    },
    {
      "cell_type": "code",
      "source": [
        "selected_slides_full = ['/content/drive/MyDrive/tumor_016_mask.tif',\n",
        "                   '/content/drive/MyDrive/tumor_031_mask.tif',\n",
        "                   '/content/drive/MyDrive/tumor_110_mask.tif',\n",
        "                   '/content/drive/MyDrive/tumor_078_mask.tif',\n",
        "                   '/content/drive/MyDrive/tumor_101_mask.tif',\n",
        "                   ]\n",
        "\n",
        "selected_slides_augmented = [\n",
        "                   '/content/drive/MyDrive/tumor_064_mask.tif',\n",
        "                   '/content/drive/MyDrive/tumor_075_mask.tif',\n",
        "                   '/content/drive/MyDrive/tumor_091_mask.tif',\n",
        "                   '/content/drive/MyDrive/tumor_096_mask.tif',\n",
        "                   '/content/drive/MyDrive/tumor_084_mask.tif',\n",
        "                   ]\n"
      ],
      "metadata": {
        "id": "ElQLtrj2vxWS"
      },
      "execution_count": null,
      "outputs": []
    },
    {
      "cell_type": "code",
      "source": [
        "def slide_sampler(sample_size, df):\n",
        "  frac_p = sample_size/len(df)\n",
        "  if frac_p>1:\n",
        "    rep = True \n",
        "  else:\n",
        "    rep = False\n",
        "\n",
        "  df = df.sample(frac=frac_p, replace=rep)\n",
        "  return df"
      ],
      "metadata": {
        "id": "8vuJ6vmdwlQ_"
      },
      "execution_count": null,
      "outputs": []
    },
    {
      "cell_type": "code",
      "source": [
        "total_samples = pd.DataFrame()"
      ],
      "metadata": {
        "id": "MGDU8K-U99m-"
      },
      "execution_count": null,
      "outputs": []
    },
    {
      "cell_type": "code",
      "source": [
        "import pandas as pd\n",
        "\n",
        "lvl_1 = 0\n",
        "lvl_2 = 2\n",
        "for mask_path in selected_slides:\n",
        "  img_path = mask_path.replace('_mask', '')\n",
        "  print('current_processing: ', img_path)\n",
        "  positive_samples, negative_samples = generate_samples(img_path,\n",
        "                                                        mask_path,\n",
        "                                                        high_lvl=lvl_1,\n",
        "                                                        low_lvl=lvl_2,\n",
        "                                                        window_size=299)\n",
        "  positive_high_reso = [item[0] for item in positive_samples]\n",
        "  positive_low_reso = [item[1] for item in positive_samples]\n",
        "  negative_high_reso = [item[0] for item in negative_samples]\n",
        "  negative_low_reso = [item[1] for item in negative_samples]\n",
        "\n",
        "  pos_df = pd.DataFrame({'slide':img_path.split('/')[-1],\n",
        "                         'is_tumor': True,\n",
        "                         'high_reso_loc': positive_high_reso,\n",
        "                         'low_reso_loc':positive_low_reso})\n",
        "  \n",
        "  neg_df = pd.DataFrame({'slide':img_path.split('/')[-1],\n",
        "                         'is_tumor': False,\n",
        "                         'high_reso_loc': negative_high_reso,\n",
        "                         'low_reso_loc': negative_low_reso})\n",
        "  sample_size = 500\n",
        "  pos_df = slide_sampler(sample_size, pos_df)\n",
        "  neg_df = slide_sampler(sample_size, neg_df)\n",
        "\n",
        "  total_samples = total_samples.append(pos_df, ignore_index=True)\n",
        "  total_samples = total_samples.append(neg_df, ignore_index=True)\n"
      ],
      "metadata": {
        "id": "4qq_gaZaFl3J",
        "colab": {
          "base_uri": "https://localhost:8080/"
        },
        "outputId": "02a0841c-9e7c-4fe7-98a9-583b7165a97b"
      },
      "execution_count": null,
      "outputs": [
        {
          "output_type": "stream",
          "name": "stdout",
          "text": [
            "current_processing:  /content/drive/MyDrive/tumor_101.tif\n"
          ]
        }
      ]
    },
    {
      "cell_type": "code",
      "source": [
        "import matplotlib.pyplot as plt\n",
        "\n",
        "def generate_images(mask_paths, sample_df, lvl_1, lvl_2, dir):\n",
        "  \"\"\"\n",
        "  Use the image pair dataframe generated above \n",
        "  to find the specifc tiles from the slides. \n",
        "  Save them to disk for the following training/testing\n",
        "  \"\"\"\n",
        "\n",
        "  for mask_path in mask_paths:\n",
        "    img = mask_path.replace('_mask.tif', '.tif')\n",
        "    with open_slide(img) as slide, open_slide(mask_path) as mask:\n",
        "      file_name = img.split('/')[-1]\n",
        "      img_name = file_name.split('.')[0]\n",
        "      print('Current processing: ', img_name)\n",
        "      img_name = img_name.replace('tumor_', '')\n",
        "      img_df = sample_df[sample_df['slide']==file_name]\n",
        "      #img_df = img_df.sample(10, replace = False, random_state=1)\n",
        "      print('current imgs count', len(img_df))\n",
        "      #deb = 0\n",
        "      for i in range(len(img_df)):\n",
        "        #deb+=1\n",
        "\n",
        "        cur_tile = img_df.iloc[i, :]\n",
        "        high_x, high_y = eval(cur_tile.high_reso_loc)\n",
        "        low_x, low_y = eval(cur_tile.low_reso_loc)\n",
        "\n",
        "        i_idx = high_x//(299**lvl_1)\n",
        "        j_idx = high_y//((299**lvl_1))\n",
        "\n",
        "        is_tumor = 'tumor' if cur_tile.is_tumor else 'normal'\n",
        "        high_res_tile = read_slide(slide, \n",
        "                  x = high_x, \n",
        "                  y = high_y, \n",
        "                  level = lvl_1, \n",
        "                  width = 299, \n",
        "                  height = 299, \n",
        "                  )\n",
        "        low_res_tile = read_slide(slide, \n",
        "                  x = low_x, \n",
        "                  y = low_y, \n",
        "                  level = lvl_2, \n",
        "                  width = 299, \n",
        "                  height = 299, \n",
        "                  )\n",
        "        \n",
        "        high_res_mask = read_slide(mask, \n",
        "                  x = high_x, \n",
        "                  y = high_y, \n",
        "                  level = lvl_1, \n",
        "                  width = 299, \n",
        "                  height = 299, \n",
        "                  )\n",
        "        low_res_mask = read_slide(mask, \n",
        "                  x = low_x, \n",
        "                  y = low_y, \n",
        "                  level = lvl_2, \n",
        "                  width = 299, \n",
        "                  height = 299, \n",
        "                  )\n",
        "        \n",
        "\n",
        "        plt.imsave('%s/img/%s_%s_%d_%d_%d_%d.png' % (dir, is_tumor, img_name, i, i_idx, j_idx, lvl_1), high_res_tile)\n",
        "        plt.imsave('%s/img/%s_%s_%d_%d_%d_%d.png' % (dir, is_tumor, img_name, i, i_idx, j_idx, lvl_2), low_res_tile)\n",
        "        plt.imsave('%s/mask/%s_%s_%d_%d_%d_%d.png' % (dir, is_tumor, img_name, i, i_idx, j_idx, lvl_1), high_res_mask)\n",
        "        plt.imsave('%s/mask/%s_%s_%d_%d_%d_%d.png' % (dir, is_tumor, img_name, i, i_idx, j_idx, lvl_2), low_res_mask)\n"
      ],
      "metadata": {
        "id": "GaXjgrjjizK6"
      },
      "execution_count": null,
      "outputs": []
    },
    {
      "cell_type": "code",
      "source": [
        "generate_images(selected_slides_augmented, total_samples, lvl_1=0, lvl_2=2, dir = '/content/drive/MyDrive/patches_v3')"
      ],
      "metadata": {
        "colab": {
          "base_uri": "https://localhost:8080/"
        },
        "id": "kSrjdzOZjp7I",
        "outputId": "ebb26f68-edab-4058-d784-265df1dc177f"
      },
      "execution_count": null,
      "outputs": [
        {
          "output_type": "stream",
          "name": "stdout",
          "text": [
            "Current processing:  tumor_064\n",
            "current imgs count 1000\n",
            "Current processing:  tumor_075\n",
            "current imgs count 1000\n",
            "Current processing:  tumor_091\n",
            "current imgs count 1000\n",
            "Current processing:  tumor_096\n",
            "current imgs count 1000\n",
            "Current processing:  tumor_084\n",
            "current imgs count 1000\n"
          ]
        }
      ]
    },
    {
      "cell_type": "code",
      "source": [
        "lvl_1 = 0\n",
        "lvl_2 = 2\n",
        "for mask_path in selected_slides[:9]:\n",
        "  img_path = mask_path.replace('_mask', '')\n",
        "  print('current_processing: ', img_path)\n",
        "  positive_samples, negative_samples = generate_samples(img_path,\n",
        "                                                        mask_path,\n",
        "                                                        high_lvl=lvl_1,\n",
        "                                                        low_lvl=lvl_2,\n",
        "                                                        window_size=299)\n",
        "  positive_high_reso = [item[0] for item in positive_samples]\n",
        "  positive_low_reso = [item[1] for item in positive_samples]\n",
        "  negative_high_reso = [item[0] for item in negative_samples]\n",
        "  negative_low_reso = [item[1] for item in negative_samples]\n",
        "\n",
        "  pos_df = pd.DataFrame({'slide':img_path.split('/')[-1],\n",
        "                         'is_tumor': True,\n",
        "                         'high_reso_loc': positive_high_reso,\n",
        "                         'low_reso_loc':positive_low_reso})\n",
        "  \n",
        "  neg_df = pd.DataFrame({'slide':img_path.split('/')[-1],\n",
        "                         'is_tumor': False,\n",
        "                         'high_reso_loc': negative_high_reso,\n",
        "                         'low_reso_loc': negative_low_reso})\n",
        "  sample_size = 500\n",
        "  pos_df = slide_sampler(sample_size, pos_df)\n",
        "  neg_df = slide_sampler(sample_size, neg_df)\n",
        "\n",
        "  total_samples = total_samples.append(pos_df, ignore_index=True)\n",
        "  total_samples = total_samples.append(neg_df, ignore_index=True)\n"
      ],
      "metadata": {
        "colab": {
          "base_uri": "https://localhost:8080/"
        },
        "id": "fCZUwixL-d1S",
        "outputId": "8f476a5c-4d17-4726-c8ee-ba87a5ddba65"
      },
      "execution_count": null,
      "outputs": [
        {
          "output_type": "stream",
          "name": "stdout",
          "text": [
            "current_processing:  /content/drive/MyDrive/tumor_016.tif\n",
            "current_processing:  /content/drive/MyDrive/tumor_031.tif\n",
            "current_processing:  /content/drive/MyDrive/tumor_064.tif\n",
            "current_processing:  /content/drive/MyDrive/tumor_075.tif\n",
            "current_processing:  /content/drive/MyDrive/tumor_084.tif\n",
            "current_processing:  /content/drive/MyDrive/tumor_091.tif\n",
            "current_processing:  /content/drive/MyDrive/tumor_096.tif\n",
            "current_processing:  /content/drive/MyDrive/tumor_110.tif\n",
            "current_processing:  /content/drive/MyDrive/tumor_078.tif\n"
          ]
        }
      ]
    },
    {
      "cell_type": "code",
      "source": [
        "generate_images(selected_slides[:9], total_samples)"
      ],
      "metadata": {
        "colab": {
          "base_uri": "https://localhost:8080/"
        },
        "id": "sE7KgyOf-jod",
        "outputId": "8a8735cb-871b-4bc9-d6f1-bc1731c5970f"
      },
      "execution_count": null,
      "outputs": [
        {
          "output_type": "stream",
          "name": "stdout",
          "text": [
            "Current processing:  tumor_016\n",
            "current imgs count 1000\n",
            "Current processing:  tumor_031\n",
            "current imgs count 1000\n",
            "Current processing:  tumor_064\n",
            "current imgs count 1000\n",
            "Current processing:  tumor_075\n",
            "current imgs count 1000\n",
            "Current processing:  tumor_084\n",
            "current imgs count 1000\n",
            "Current processing:  tumor_091\n",
            "current imgs count 1000\n",
            "Current processing:  tumor_096\n",
            "current imgs count 1000\n",
            "Current processing:  tumor_110\n",
            "current imgs count 1000\n",
            "Current processing:  tumor_078\n",
            "current imgs count 1000\n"
          ]
        }
      ]
    },
    {
      "cell_type": "code",
      "source": [
        "total_samples.head()"
      ],
      "metadata": {
        "colab": {
          "base_uri": "https://localhost:8080/",
          "height": 206
        },
        "id": "TXyCdTPdRPRJ",
        "outputId": "69204b12-8c97-4872-908b-d404b477b166"
      },
      "execution_count": null,
      "outputs": [
        {
          "output_type": "execute_result",
          "data": {
            "text/plain": [
              "           slide  is_tumor    high_reso_loc     low_reso_loc\n",
              "0  tumor_016.tif      True  (28704, 163852)  (26910, 162058)\n",
              "1  tumor_016.tif      True  (40664, 150696)  (38870, 148902)\n",
              "2  tumor_016.tif      True  (44252, 154284)  (42458, 152490)\n",
              "3  tumor_016.tif      True  (37076, 162656)  (35282, 160862)\n",
              "4  tumor_016.tif      True  (43056, 161460)  (41262, 159666)"
            ],
            "text/html": [
              "\n",
              "  <div id=\"df-678d6385-d563-4779-999c-3ecbe1ac7bc4\">\n",
              "    <div class=\"colab-df-container\">\n",
              "      <div>\n",
              "<style scoped>\n",
              "    .dataframe tbody tr th:only-of-type {\n",
              "        vertical-align: middle;\n",
              "    }\n",
              "\n",
              "    .dataframe tbody tr th {\n",
              "        vertical-align: top;\n",
              "    }\n",
              "\n",
              "    .dataframe thead th {\n",
              "        text-align: right;\n",
              "    }\n",
              "</style>\n",
              "<table border=\"1\" class=\"dataframe\">\n",
              "  <thead>\n",
              "    <tr style=\"text-align: right;\">\n",
              "      <th></th>\n",
              "      <th>slide</th>\n",
              "      <th>is_tumor</th>\n",
              "      <th>high_reso_loc</th>\n",
              "      <th>low_reso_loc</th>\n",
              "    </tr>\n",
              "  </thead>\n",
              "  <tbody>\n",
              "    <tr>\n",
              "      <th>0</th>\n",
              "      <td>tumor_016.tif</td>\n",
              "      <td>True</td>\n",
              "      <td>(28704, 163852)</td>\n",
              "      <td>(26910, 162058)</td>\n",
              "    </tr>\n",
              "    <tr>\n",
              "      <th>1</th>\n",
              "      <td>tumor_016.tif</td>\n",
              "      <td>True</td>\n",
              "      <td>(40664, 150696)</td>\n",
              "      <td>(38870, 148902)</td>\n",
              "    </tr>\n",
              "    <tr>\n",
              "      <th>2</th>\n",
              "      <td>tumor_016.tif</td>\n",
              "      <td>True</td>\n",
              "      <td>(44252, 154284)</td>\n",
              "      <td>(42458, 152490)</td>\n",
              "    </tr>\n",
              "    <tr>\n",
              "      <th>3</th>\n",
              "      <td>tumor_016.tif</td>\n",
              "      <td>True</td>\n",
              "      <td>(37076, 162656)</td>\n",
              "      <td>(35282, 160862)</td>\n",
              "    </tr>\n",
              "    <tr>\n",
              "      <th>4</th>\n",
              "      <td>tumor_016.tif</td>\n",
              "      <td>True</td>\n",
              "      <td>(43056, 161460)</td>\n",
              "      <td>(41262, 159666)</td>\n",
              "    </tr>\n",
              "  </tbody>\n",
              "</table>\n",
              "</div>\n",
              "      <button class=\"colab-df-convert\" onclick=\"convertToInteractive('df-678d6385-d563-4779-999c-3ecbe1ac7bc4')\"\n",
              "              title=\"Convert this dataframe to an interactive table.\"\n",
              "              style=\"display:none;\">\n",
              "        \n",
              "  <svg xmlns=\"http://www.w3.org/2000/svg\" height=\"24px\"viewBox=\"0 0 24 24\"\n",
              "       width=\"24px\">\n",
              "    <path d=\"M0 0h24v24H0V0z\" fill=\"none\"/>\n",
              "    <path d=\"M18.56 5.44l.94 2.06.94-2.06 2.06-.94-2.06-.94-.94-2.06-.94 2.06-2.06.94zm-11 1L8.5 8.5l.94-2.06 2.06-.94-2.06-.94L8.5 2.5l-.94 2.06-2.06.94zm10 10l.94 2.06.94-2.06 2.06-.94-2.06-.94-.94-2.06-.94 2.06-2.06.94z\"/><path d=\"M17.41 7.96l-1.37-1.37c-.4-.4-.92-.59-1.43-.59-.52 0-1.04.2-1.43.59L10.3 9.45l-7.72 7.72c-.78.78-.78 2.05 0 2.83L4 21.41c.39.39.9.59 1.41.59.51 0 1.02-.2 1.41-.59l7.78-7.78 2.81-2.81c.8-.78.8-2.07 0-2.86zM5.41 20L4 18.59l7.72-7.72 1.47 1.35L5.41 20z\"/>\n",
              "  </svg>\n",
              "      </button>\n",
              "      \n",
              "  <style>\n",
              "    .colab-df-container {\n",
              "      display:flex;\n",
              "      flex-wrap:wrap;\n",
              "      gap: 12px;\n",
              "    }\n",
              "\n",
              "    .colab-df-convert {\n",
              "      background-color: #E8F0FE;\n",
              "      border: none;\n",
              "      border-radius: 50%;\n",
              "      cursor: pointer;\n",
              "      display: none;\n",
              "      fill: #1967D2;\n",
              "      height: 32px;\n",
              "      padding: 0 0 0 0;\n",
              "      width: 32px;\n",
              "    }\n",
              "\n",
              "    .colab-df-convert:hover {\n",
              "      background-color: #E2EBFA;\n",
              "      box-shadow: 0px 1px 2px rgba(60, 64, 67, 0.3), 0px 1px 3px 1px rgba(60, 64, 67, 0.15);\n",
              "      fill: #174EA6;\n",
              "    }\n",
              "\n",
              "    [theme=dark] .colab-df-convert {\n",
              "      background-color: #3B4455;\n",
              "      fill: #D2E3FC;\n",
              "    }\n",
              "\n",
              "    [theme=dark] .colab-df-convert:hover {\n",
              "      background-color: #434B5C;\n",
              "      box-shadow: 0px 1px 3px 1px rgba(0, 0, 0, 0.15);\n",
              "      filter: drop-shadow(0px 1px 2px rgba(0, 0, 0, 0.3));\n",
              "      fill: #FFFFFF;\n",
              "    }\n",
              "  </style>\n",
              "\n",
              "      <script>\n",
              "        const buttonEl =\n",
              "          document.querySelector('#df-678d6385-d563-4779-999c-3ecbe1ac7bc4 button.colab-df-convert');\n",
              "        buttonEl.style.display =\n",
              "          google.colab.kernel.accessAllowed ? 'block' : 'none';\n",
              "\n",
              "        async function convertToInteractive(key) {\n",
              "          const element = document.querySelector('#df-678d6385-d563-4779-999c-3ecbe1ac7bc4');\n",
              "          const dataTable =\n",
              "            await google.colab.kernel.invokeFunction('convertToInteractive',\n",
              "                                                     [key], {});\n",
              "          if (!dataTable) return;\n",
              "\n",
              "          const docLinkHtml = 'Like what you see? Visit the ' +\n",
              "            '<a target=\"_blank\" href=https://colab.research.google.com/notebooks/data_table.ipynb>data table notebook</a>'\n",
              "            + ' to learn more about interactive tables.';\n",
              "          element.innerHTML = '';\n",
              "          dataTable['output_type'] = 'display_data';\n",
              "          await google.colab.output.renderOutput(dataTable, element);\n",
              "          const docLink = document.createElement('div');\n",
              "          docLink.innerHTML = docLinkHtml;\n",
              "          element.appendChild(docLink);\n",
              "        }\n",
              "      </script>\n",
              "    </div>\n",
              "  </div>\n",
              "  "
            ]
          },
          "metadata": {},
          "execution_count": 66
        }
      ]
    }
  ]
}